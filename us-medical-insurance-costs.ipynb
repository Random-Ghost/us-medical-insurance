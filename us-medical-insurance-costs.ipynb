{
 "cells": [
  {
   "cell_type": "markdown",
   "metadata": {},
   "source": [
    "# U.S. Medical Insurance Costs"
   ]
  },
  {
   "cell_type": "markdown",
   "metadata": {},
   "source": [
    "## File Preview"
   ]
  },
  {
   "cell_type": "code",
   "execution_count": 1,
   "metadata": {
    "scrolled": true
   },
   "outputs": [
    {
     "name": "stdout",
     "output_type": "stream",
     "text": [
      "These are the first 6 lines of the file:\n",
      "age,sex,bmi,children,smoker,region,charges\n",
      "19,female,27.9,0,yes,southwest,16884.924\n",
      "18,male,33.77,1,no,southeast,1725.5523\n",
      "28,male,33,3,no,southeast,4449.462\n",
      "33,male,22.705,0,no,northwest,21984.47061\n",
      "32,male,28.88,0,no,northwest,3866.8552\n",
      "31,female,25.74,0,no,southeast,3756.6216\n",
      "\n"
     ]
    }
   ],
   "source": [
    "with open(\"insurance.csv\") as file:\n",
    "    content = \"These are the first 6 lines of the file:\\n\"\n",
    "    for i in range(7):\n",
    "        content += file.readline()\n",
    "\n",
    "print(content)"
   ]
  },
  {
   "cell_type": "markdown",
   "metadata": {},
   "source": [
    "# Creating a Dictionary from the file\n",
    "Here I create a dictionary from the csv file. It will be in the format:\n",
    "> `dataframe = {id: [...], column_name_1:[...], ... column_name_n:[...]}`\n",
    "\n",
    "Each value of the dictionary is a list containing the column elements. I got the idea from Pandas Dataframes. <br>\n",
    "One difference is my `id` list starts from 1. So `id` is of the form:\n",
    "> `id: [1, 2,... 1337, 1338]`\n",
    "\n",
    "And `charges` will be of the form:\n",
    "> `charges: [19, 18,... 21, 61]`"
   ]
  },
  {
   "cell_type": "code",
   "execution_count": 2,
   "metadata": {},
   "outputs": [
    {
     "name": "stdout",
     "output_type": "stream",
     "text": [
      "{'id': [], 'age': [], 'sex': [], 'bmi': [], 'children': [], 'smoker': [], 'region': [], 'charges': []}\n"
     ]
    }
   ],
   "source": [
    "def read_csv_file(file_name, delimiter=\",\"):\n",
    "    # we first get the field names to make the dictionary\n",
    "    with open(file_name) as file:\n",
    "        field_name_str = file.readline().strip()\n",
    "        field_names = field_name_str.split(delimiter)\n",
    "        # we get something like [\"id\", ---column names---]\n",
    "        field_names.insert(0, \"id\")\n",
    "        \n",
    "        # now we create the dictionary\n",
    "        # my dataframe format is a dictionary of lists so that column_name : list\n",
    "        dict = {}\n",
    "        for column in field_names:\n",
    "            dict[column] = []\n",
    "        print(dict)\n",
    "        \n",
    "        # go through each line and add the items\n",
    "        i = 1\n",
    "        for line_str in file.readlines():\n",
    "            line = line_str.strip().split(delimiter)\n",
    "            # to get it to the same format as field_names\n",
    "            line.insert(0, i)\n",
    "            \n",
    "            for num in range(len(field_names)):\n",
    "                dict[field_names[num]].append(line[num])\n",
    "                \n",
    "            i += 1\n",
    "    \n",
    "    return dict\n",
    "    \n",
    "my_insurance_csv = read_csv_file(\"insurance.csv\")"
   ]
  },
  {
   "cell_type": "markdown",
   "metadata": {},
   "source": [
    "## Cleaning up the data\n",
    "It does help that I know what data types the column entries are. <br>\n",
    "`age` is converted to a integer list, `sex` is converted to a two-integer list and so on. Only `region` is left as a string since there are too many distinct entries for me to convert it with if statements."
   ]
  },
  {
   "cell_type": "code",
   "execution_count": 3,
   "metadata": {},
   "outputs": [],
   "source": [
    "# cleaning up the data\n",
    "# id is our identifying column\n",
    "for num in my_insurance_csv[\"id\"]:\n",
    "    i = num - 1\n",
    "    # age is an int list\n",
    "    my_insurance_csv[\"age\"][i] = int(my_insurance_csv[\"age\"][i])\n",
    "    # let us classify sex to 1 as male and 0 as female\n",
    "    my_insurance_csv[\"sex\"][i] = 1 if my_insurance_csv[\"sex\"][i] == \"male\" else 0\n",
    "    # bmi is a float list\n",
    "    my_insurance_csv[\"bmi\"][i] = float(my_insurance_csv[\"bmi\"][i])\n",
    "    # children is an int list\n",
    "    my_insurance_csv[\"children\"][i] = int(my_insurance_csv[\"children\"][i])\n",
    "    # smoker will be categorised into 1 as yes and 0 as no\n",
    "    my_insurance_csv[\"smoker\"][i] = 1 if my_insurance_csv[\"smoker\"][i] == \"yes\" else 0\n",
    "    # there isn't any point to changing region since it has too many distinct values\n",
    "    # charges is a float list\n",
    "    my_insurance_csv[\"charges\"][i] = float(my_insurance_csv[\"charges\"][i])"
   ]
  },
  {
   "cell_type": "markdown",
   "metadata": {},
   "source": [
    "## Displaying the data\n",
    "I have to admit I just used pandas format here. So it just displays the first and last five entries."
   ]
  },
  {
   "cell_type": "code",
   "execution_count": 4,
   "metadata": {},
   "outputs": [
    {
     "name": "stdout",
     "output_type": "stream",
     "text": [
      "          id         age         sex         bmi    children      smoker      region     charges\n",
      "           1          19           0        27.9           0           1   southwest   16884.924\n",
      "           2          18           1       33.77           1           0   southeast   1725.5523\n",
      "           3          28           1        33.0           3           0   southeast    4449.462\n",
      "           4          33           1      22.705           0           0   northwest 21984.47061\n",
      "           5          32           1       28.88           0           0   northwest   3866.8552\n",
      "         ...         ...         ...         ...         ...         ...         ...         ...\n",
      "        1334          50           1       30.97           3           0   northwest  10600.5483\n",
      "        1335          18           0       31.92           0           0   northeast   2205.9808\n",
      "        1336          18           0       36.85           0           0   southeast   1629.8335\n",
      "        1337          21           0        25.8           0           0   southwest    2007.945\n",
      "        1338          61           0       29.07           0           1   northwest  29141.3603\n",
      "1338 rows x 7 columns.\n"
     ]
    }
   ],
   "source": [
    "def display_dict(dict, width=12):\n",
    "    line = \"\"\n",
    "    for key in dict.keys():\n",
    "        line += str(key).rjust(width)\n",
    "    print(line)\n",
    "    \n",
    "    for i in range(5):\n",
    "        line = \"\"\n",
    "        for key in dict.keys():\n",
    "            line += str(dict[key][i]).rjust(width)\n",
    "        print(line)\n",
    "    \n",
    "    line = \"\"\n",
    "    for key in dict.keys():\n",
    "        line += \"...\".rjust(width)\n",
    "    print(line)\n",
    "    \n",
    "    for i in range(dict[\"id\"][-6], dict[\"id\"][-1]):\n",
    "        line = \"\"\n",
    "        for key in dict.keys():\n",
    "            line += str(dict[key][i]).rjust(width)\n",
    "        print(line)\n",
    "    print(\"{row} rows x {col} columns.\".format(row=dict[\"id\"][-1], col=len(dict.keys()) - 1))\n",
    "    \n",
    "display_dict(my_insurance_csv, width = 12)"
   ]
  },
  {
   "cell_type": "markdown",
   "metadata": {},
   "source": [
    "# What can we get from the data?\n",
    "Now that we have a clean dataset, what questions can we give answers to? <br>\n",
    "1. Comparing Linear Correlation\n",
    "    - What is the linear correlation of each variables with the charges?\n",
    "    - What variable has the highest absolute correlation coefficient with charges?\n",
    "    - What is the relationship between some of the variables?\n",
    "1. Sex Differences\n",
    "    - What sex is more likely to have children? <br>\n",
    "    - Are both sexes uniformly distributed among the clients?\n",
    "    - What sex pays more on average?\n",
    "1. Averages and Medians\n",
    "    - What is the average ages of parents and non-parents?\n",
    "    - What is the average age of smokers and non-smokers?"
   ]
  },
  {
   "cell_type": "markdown",
   "metadata": {},
   "source": [
    "## Comparing Linear Correlation\n",
    "Firstly, I will be finding the linear correlation coeffiecient of all the variables with charges except `region` since it is still made of `strings`. <br>\n",
    "Here we find out `smoker` has the highest absolute correlation coefficient with `charges` so it seems to be the most important. <br>\n",
    "We can also compare the variables. Like the relationship between the ages of clients and the number of children they have."
   ]
  },
  {
   "cell_type": "code",
   "execution_count": 5,
   "metadata": {},
   "outputs": [
    {
     "name": "stdout",
     "output_type": "stream",
     "text": [
      "The correlation coefficient betweeen age and charges is 0.299.\n",
      "The correlation coefficient betweeen sex and charges is 0.057.\n",
      "The correlation coefficient betweeen bmi and charges is 0.198.\n",
      "The correlation coefficient betweeen children and charges is 0.068.\n",
      "The correlation coefficient betweeen smoker and charges is 0.787.\n",
      "The variable with the highest correlation is smoker with a correlation coefficient of 0.787.\n"
     ]
    }
   ],
   "source": [
    "import math\n",
    "\n",
    "# comparing correlation coeefficients\n",
    "def correlation(x, y):\n",
    "    n = len(x)\n",
    "    sum_x = 0\n",
    "    sum_y = 0\n",
    "    sum_xy = 0\n",
    "    sum_x_2 = 0\n",
    "    sum_y_2 = 0\n",
    "    \n",
    "    for i in range(n):\n",
    "        x_i = x[i]\n",
    "        y_i = y[i]\n",
    "        sum_x += x_i\n",
    "        sum_y += y_i\n",
    "        sum_xy += x_i * y_i\n",
    "        sum_x_2 += x_i ** 2\n",
    "        sum_y_2 += y_i ** 2\n",
    "    \n",
    "    numerator = n * sum_xy - sum_x * sum_y\n",
    "    denominator = math.sqrt((n * sum_x_2 - sum_x ** 2) * (n * sum_y_2 - sum_y ** 2))\n",
    "    return round(numerator / denominator, 3)\n",
    "\n",
    "def correlation_all(keys, y):\n",
    "    # since correlation is bounded between -1 and 1, I can set the initial value for max_value to 0\n",
    "    max_value = 0\n",
    "    for key in keys:\n",
    "        cor_key = correlation(my_insurance_csv[key], my_insurance_csv[y])\n",
    "        if abs(cor_key) > max_value:\n",
    "            max_value = cor_key\n",
    "            max_key = key\n",
    "        print(\"The correlation coefficient betweeen {x} and {y} is {cor}.\".format(x=key, y=y, cor=cor_key))\n",
    "        \n",
    "    print(\"The variable with the highest correlation is {x} with a correlation coefficient of {cor}.\".format(x=max_key, cor=max_value))\n",
    "\n",
    "correlation_all([\"age\", \"sex\", \"bmi\", \"children\", \"smoker\"], \"charges\")"
   ]
  },
  {
   "cell_type": "code",
   "execution_count": 6,
   "metadata": {
    "scrolled": true
   },
   "outputs": [
    {
     "name": "stdout",
     "output_type": "stream",
     "text": [
      "The correlation coefficient between age and bmi is 0.109.\n",
      "The correlation coefficient between sex and the number of children had is 0.017.\n",
      "The correlation coefficient between age and the number of children had is 0.042.\n"
     ]
    }
   ],
   "source": [
    "print(\"The correlation coefficient between age and bmi is {cor}.\".format(cor=correlation(my_insurance_csv[\"age\"], my_insurance_csv[\"bmi\"])))\n",
    "print(\"The correlation coefficient between sex and the number of children had is {cor}.\".format(cor=correlation(my_insurance_csv[\"sex\"], my_insurance_csv[\"children\"])))\n",
    "print(\"The correlation coefficient between age and the number of children had is {cor}.\".format(cor=correlation(my_insurance_csv[\"age\"], my_insurance_csv[\"children\"])))"
   ]
  },
  {
   "cell_type": "markdown",
   "metadata": {},
   "source": [
    "## Sex Differences\n",
    "I will be comparing sexes and their some of their attributes. <br>\n",
    "Here we can see that although close, the male clients are more inclined to have children. <br>\n",
    "Both sexes are more likely to have children than not <br>\n",
    "Male and female clients are also close to being uniformly distributed.\n",
    "***\n",
    "We also find out male clients pay more than female clients on average."
   ]
  },
  {
   "cell_type": "code",
   "execution_count": 7,
   "metadata": {},
   "outputs": [
    {
     "data": {
      "image/png": "[encoded data removed]",
      "text/plain": [
       "<Figure size 640x480 with 1 Axes>"
      ]
     },
     "metadata": {},
     "output_type": "display_data"
    }
   ],
   "source": [
    "import matplotlib.pyplot as plt\n",
    "\n",
    "sex = my_insurance_csv[\"sex\"]\n",
    "children = my_insurance_csv[\"children\"]\n",
    "\n",
    "count = [i for i in range(6)]\n",
    "# since the maximum number of children had per person is 5, I will only go from 0 to 5\n",
    "male = [0, 0, 0, 0, 0, 0]\n",
    "female = [0, 0, 0, 0, 0, 0]\n",
    "\n",
    "# so the entry at an index is the number of that sex that have the number of children as the index\n",
    "for i in range(len(sex)):\n",
    "    if sex[i] == 1:\n",
    "        male[children[i]] += 1\n",
    "    else:\n",
    "        female[children[i]] += 1\n",
    "\n",
    "sex_dict = {\n",
    "    \"Male\" : male,\n",
    "    \"Female\" : female\n",
    "}\n",
    "\n",
    "x = list(range(len(count))) # the label locations\n",
    "width = 0.33  # the width of the bars\n",
    "multiplier = 0.5\n",
    "\n",
    "fig, ax = plt.subplots(layout='constrained')\n",
    "\n",
    "for attribute, measurement in sex_dict.items():\n",
    "    offset = width * multiplier\n",
    "    rects = ax.bar([i + offset for i in x], measurement, width, label=attribute)\n",
    "    ax.bar_label(rects, padding=3)\n",
    "    multiplier += 1\n",
    "\n",
    "# Add some text for labels, title and custom x-axis tick labels, etc.\n",
    "ax.set_ylabel('Count')\n",
    "ax.set_xlabel(\"Number of children\")\n",
    "ax.set_title('Number of children by sex')\n",
    "ax.set_xticks([i + width for i in x], count)\n",
    "ax.legend(loc='upper right', ncols=2)\n",
    "ax.set_ylim(0, 320)\n",
    "\n",
    "plt.show()"
   ]
  },
  {
   "cell_type": "code",
   "execution_count": 8,
   "metadata": {
    "scrolled": true
   },
   "outputs": [
    {
     "name": "stdout",
     "output_type": "stream",
     "text": [
      "The ratio of male to female clients is almost evenly distributed with male clients being 50.52% of clients and females being 49.48%.\n"
     ]
    }
   ],
   "source": [
    "num_male = 0\n",
    "num_female = 0 \n",
    "for i in range(len(male)):\n",
    "    num_male += male[i]\n",
    "    num_female += female[i]\n",
    "    \n",
    "percent_male = num_male / (num_male + num_female) * 100.0\n",
    "percent_female = 100.0 - percent_male\n",
    "\n",
    "print(\"The ratio of male to female clients is almost evenly distributed with male clients being {male_per}% of clients and females being {fem_per}%.\".format(male_per=round(percent_male, 2), fem_per=round(percent_female, 2)))"
   ]
  },
  {
   "cell_type": "code",
   "execution_count": 9,
   "metadata": {},
   "outputs": [
    {
     "name": "stdout",
     "output_type": "stream",
     "text": [
      "The average charges for male clients is 13956.75 while the average charges for female clients is 12569.58.\n"
     ]
    }
   ],
   "source": [
    "# What sex pays more on average?\n",
    "charges = my_insurance_csv[\"charges\"]\n",
    "\n",
    "male_charges = []\n",
    "female_charges = []\n",
    "\n",
    "for i in range(len(charges)):\n",
    "    if sex[i] == 1:\n",
    "        male_charges.append(charges[i])\n",
    "    else:\n",
    "        female_charges.append(charges[i])\n",
    "\n",
    "avg_male_charges = round(sum(male_charges) / num_male, 2)\n",
    "avg_fem_charges = round(sum(female_charges) / num_female, 2)\n",
    "\n",
    "print(\"The average charges for male clients is {avg_male} while the average charges for female clients is {avg_fem}.\".format(avg_male=avg_male_charges, avg_fem=avg_fem_charges))"
   ]
  },
  {
   "cell_type": "markdown",
   "metadata": {},
   "source": [
    "## Averages and Medians\n",
    "I will be comparing the averages of some attributes like `age`. <br>\n",
    "The average ages of parents and non-parents are close surprsingly with their values being 40 and 38 years. This can be explained by the fact that most parents are in the 30 - 50 range while the non-parents have bumps in the edges. Their median ages are also similar with values of 40 and 36 years respectively.\n",
    "***\n",
    "The average ages of smokers and non-smokers are equal, with both being 39 years. Their median ages are 38.5 and 40 years respectively."
   ]
  },
  {
   "cell_type": "code",
   "execution_count": 10,
   "metadata": {},
   "outputs": [
    {
     "name": "stdout",
     "output_type": "stream",
     "text": [
      "The average age of parents is 40 years while the average age of non-parents is 38 years.\n",
      "The median age of parents is 40.0 years while the median age of non-parents is 36.0 years.\n"
     ]
    }
   ],
   "source": [
    "# what is the average and median age of parents and non_parents\n",
    "ages = my_insurance_csv[\"age\"]\n",
    "\n",
    "parent_ages = []\n",
    "non_parent_ages = []\n",
    "\n",
    "for i in range(len(ages)):\n",
    "    if children[i] == 0:\n",
    "        non_parent_ages.append(ages[i])\n",
    "    else:\n",
    "        parent_ages.append(ages[i])\n",
    "\n",
    "num_parents = len(parent_ages)\n",
    "sum_parents = sum(parent_ages)\n",
    "num_non_parents = len(non_parent_ages)\n",
    "sum_non_parents = sum(non_parent_ages)\n",
    "\n",
    "def median(data):\n",
    "    n = len(data)\n",
    "    data_sorted = sorted(data)\n",
    "    if n % 2 == 0:\n",
    "        return (data_sorted[int(n / 2)] + data_sorted[int((n / 2) + 1)]) / 2\n",
    "    else:\n",
    "        return data_sorted[int((n + 1) / 2)]\n",
    "\n",
    "average_parent = sum_parents / num_parents\n",
    "average_non_parent = sum_non_parents / num_non_parents\n",
    "median_parent = median(parent_ages)\n",
    "median_non_parent = median(non_parent_ages)\n",
    "\n",
    "print(\"The average age of parents is {avg_p} years while the average age of non-parents is {avg_np} years.\".format(avg_p=round(average_parent), avg_np=round(average_non_parent)))\n",
    "print(\"The median age of parents is {med_p} years while the median age of non-parents is {med_np} years.\".format(med_p=median_parent, med_np=median_non_parent))"
   ]
  },
  {
   "cell_type": "code",
   "execution_count": 11,
   "metadata": {},
   "outputs": [
    {
     "name": "stdout",
     "output_type": "stream",
     "text": [
      "The average age of smokers is 39 years while the average age of non-smokers is 39 years.\n",
      "The median age of smokers is 38.5 years while the median age of non-smokers is 40.0 years.\n"
     ]
    }
   ],
   "source": [
    "# what is the average and median age of smokers?\n",
    "smokers = my_insurance_csv[\"smoker\"]\n",
    "\n",
    "smoker_ages = []\n",
    "non_smoker_ages = []\n",
    "\n",
    "for i in range(len(ages)):\n",
    "    if smokers[i] == 0:\n",
    "        non_smoker_ages.append(ages[i])\n",
    "    else:\n",
    "        smoker_ages.append(ages[i])\n",
    "\n",
    "num_smokers = len(smoker_ages)\n",
    "sum_smokers = sum(smoker_ages)\n",
    "num_non_smokers = len(non_smoker_ages)\n",
    "sum_non_smokers = sum(non_smoker_ages)\n",
    "\n",
    "average_smoker = sum_smokers / num_smokers\n",
    "average_non_smoker = sum_non_smokers / num_non_smokers\n",
    "median_smoker = median(smoker_ages)\n",
    "median_non_smoker = median(non_smoker_ages)\n",
    "\n",
    "print(\"The average age of smokers is {avg_s} years while the average age of non-smokers is {avg_ns} years.\".format(avg_s=round(average_smoker), avg_ns=round(average_non_smoker)))\n",
    "print(\"The median age of smokers is {med_s} years while the median age of non-smokers is {med_ns} years.\".format(med_s=median_smoker, med_ns=median_non_smoker))"
   ]
  },
  {
   "cell_type": "code",
   "execution_count": null,
   "metadata": {},
   "outputs": [],
   "source": []
  }
 ],
 "metadata": {
  "kernelspec": {
   "display_name": "Python 3 (ipykernel)",
   "language": "python",
   "name": "python3"
  },
  "language_info": {
   "codemirror_mode": {
    "name": "ipython",
    "version": 3
   },
   "file_extension": ".py",
   "mimetype": "text/x-python",
   "name": "python",
   "nbconvert_exporter": "python",
   "pygments_lexer": "ipython3",
   "version": "3.11.7"
  }
 },
 "nbformat": 4,
 "nbformat_minor": 4
}
